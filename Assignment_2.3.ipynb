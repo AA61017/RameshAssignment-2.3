{
 "cells": [
  {
   "cell_type": "code",
   "execution_count": 12,
   "metadata": {},
   "outputs": [
    {
     "name": "stdout",
     "output_type": "stream",
     "text": [
      "Accepting the word as input from the user : India\n",
      "The reversed word is :  aidnI\n"
     ]
    }
   ],
   "source": [
    "# Program to reverse a word after accepting the input from the user.\n",
    "\n",
    "# Take a word as input\n",
    "word = input(\"Accepting the word as input from the user : \")\n",
    "if len(word.split()) > 1:\n",
    "    raise Exception(\"Input must be a single word\")\n",
    "result = word[-1::-1]\n",
    "\n",
    "print('The reversed word is : ',result)"
   ]
  },
  {
   "cell_type": "code",
   "execution_count": null,
   "metadata": {},
   "outputs": [],
   "source": []
  },
  {
   "cell_type": "code",
   "execution_count": null,
   "metadata": {},
   "outputs": [],
   "source": []
  }
 ],
 "metadata": {
  "kernelspec": {
   "display_name": "Python 3",
   "language": "python",
   "name": "python3"
  },
  "language_info": {
   "codemirror_mode": {
    "name": "ipython",
    "version": 3
   },
   "file_extension": ".py",
   "mimetype": "text/x-python",
   "name": "python",
   "nbconvert_exporter": "python",
   "pygments_lexer": "ipython3",
   "version": "3.6.4"
  }
 },
 "nbformat": 4,
 "nbformat_minor": 2
}
